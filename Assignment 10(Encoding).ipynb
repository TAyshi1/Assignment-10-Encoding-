{
 "cells": [
  {
   "cell_type": "code",
   "execution_count": 1,
   "id": "a43de800-a78b-4b03-ad85-d383053f29eb",
   "metadata": {},
   "outputs": [],
   "source": [
    "import pandas as pd\n",
    "import numpy as np\n",
    "from sklearn.preprocessing import LabelEncoder, OneHotEncoder, OrdinalEncoder\n",
    "from termcolor import colored\n",
    "\n",
    "import warnings\n",
    "warnings.filterwarnings('ignore')"
   ]
  },
  {
   "cell_type": "code",
   "execution_count": 5,
   "id": "cf50e58d-39e2-4024-a18e-2d564ed0ecf3",
   "metadata": {},
   "outputs": [
    {
     "data": {
      "text/html": [
       "<div>\n",
       "<style scoped>\n",
       "    .dataframe tbody tr th:only-of-type {\n",
       "        vertical-align: middle;\n",
       "    }\n",
       "\n",
       "    .dataframe tbody tr th {\n",
       "        vertical-align: top;\n",
       "    }\n",
       "\n",
       "    .dataframe thead th {\n",
       "        text-align: right;\n",
       "    }\n",
       "</style>\n",
       "<table border=\"1\" class=\"dataframe\">\n",
       "  <thead>\n",
       "    <tr style=\"text-align: right;\">\n",
       "      <th></th>\n",
       "      <th>age</th>\n",
       "      <th>sex</th>\n",
       "      <th>bmi</th>\n",
       "      <th>children</th>\n",
       "      <th>smoker</th>\n",
       "      <th>region</th>\n",
       "      <th>charges</th>\n",
       "    </tr>\n",
       "  </thead>\n",
       "  <tbody>\n",
       "    <tr>\n",
       "      <th>0</th>\n",
       "      <td>19</td>\n",
       "      <td>female</td>\n",
       "      <td>27.900</td>\n",
       "      <td>0</td>\n",
       "      <td>yes</td>\n",
       "      <td>southwest</td>\n",
       "      <td>16884.92400</td>\n",
       "    </tr>\n",
       "    <tr>\n",
       "      <th>1</th>\n",
       "      <td>18</td>\n",
       "      <td>male</td>\n",
       "      <td>33.770</td>\n",
       "      <td>1</td>\n",
       "      <td>no</td>\n",
       "      <td>southeast</td>\n",
       "      <td>1725.55230</td>\n",
       "    </tr>\n",
       "    <tr>\n",
       "      <th>2</th>\n",
       "      <td>28</td>\n",
       "      <td>male</td>\n",
       "      <td>33.000</td>\n",
       "      <td>3</td>\n",
       "      <td>no</td>\n",
       "      <td>southeast</td>\n",
       "      <td>4449.46200</td>\n",
       "    </tr>\n",
       "    <tr>\n",
       "      <th>3</th>\n",
       "      <td>33</td>\n",
       "      <td>male</td>\n",
       "      <td>22.705</td>\n",
       "      <td>0</td>\n",
       "      <td>no</td>\n",
       "      <td>northwest</td>\n",
       "      <td>21984.47061</td>\n",
       "    </tr>\n",
       "    <tr>\n",
       "      <th>4</th>\n",
       "      <td>32</td>\n",
       "      <td>male</td>\n",
       "      <td>28.880</td>\n",
       "      <td>0</td>\n",
       "      <td>no</td>\n",
       "      <td>northwest</td>\n",
       "      <td>3866.85520</td>\n",
       "    </tr>\n",
       "  </tbody>\n",
       "</table>\n",
       "</div>"
      ],
      "text/plain": [
       "   age     sex     bmi  children smoker     region      charges\n",
       "0   19  female  27.900         0    yes  southwest  16884.92400\n",
       "1   18    male  33.770         1     no  southeast   1725.55230\n",
       "2   28    male  33.000         3     no  southeast   4449.46200\n",
       "3   33    male  22.705         0     no  northwest  21984.47061\n",
       "4   32    male  28.880         0     no  northwest   3866.85520"
      ]
     },
     "execution_count": 5,
     "metadata": {},
     "output_type": "execute_result"
    }
   ],
   "source": [
    "df= pd.read_csv('insurance.csv')\n",
    "df.head()"
   ]
  },
  {
   "cell_type": "code",
   "execution_count": 7,
   "id": "4861391f-ba8e-40c3-ae76-2e645932da0b",
   "metadata": {},
   "outputs": [
    {
     "data": {
      "text/plain": [
       "array(['yes', 'no'], dtype=object)"
      ]
     },
     "execution_count": 7,
     "metadata": {},
     "output_type": "execute_result"
    }
   ],
   "source": [
    "df.smoker.unique()"
   ]
  },
  {
   "cell_type": "code",
   "execution_count": 9,
   "id": "156ab664-e7bb-4dbf-9058-0acedd3a26c1",
   "metadata": {},
   "outputs": [
    {
     "data": {
      "text/plain": [
       "array(['female', 'male'], dtype=object)"
      ]
     },
     "execution_count": 9,
     "metadata": {},
     "output_type": "execute_result"
    }
   ],
   "source": [
    "df.sex.unique()"
   ]
  },
  {
   "cell_type": "code",
   "execution_count": 11,
   "id": "8443dc99-fe00-4ff7-b1e7-4077fb9c63bf",
   "metadata": {},
   "outputs": [
    {
     "data": {
      "text/plain": [
       "array(['southwest', 'southeast', 'northwest', 'northeast'], dtype=object)"
      ]
     },
     "execution_count": 11,
     "metadata": {},
     "output_type": "execute_result"
    }
   ],
   "source": [
    "df.region.unique()"
   ]
  },
  {
   "cell_type": "code",
   "execution_count": 15,
   "id": "7bee2051-2dfb-433d-a467-a15d84735555",
   "metadata": {},
   "outputs": [
    {
     "data": {
      "text/plain": [
       "age         0\n",
       "sex         0\n",
       "bmi         0\n",
       "children    0\n",
       "smoker      0\n",
       "region      0\n",
       "charges     0\n",
       "dtype: int64"
      ]
     },
     "execution_count": 15,
     "metadata": {},
     "output_type": "execute_result"
    }
   ],
   "source": [
    "df.isnull().sum()"
   ]
  },
  {
   "cell_type": "markdown",
   "id": "a26769e0-ed32-4f81-9d2e-4b832094e7c8",
   "metadata": {},
   "source": [
    "# Assignment\n",
    "**1.Label Encoder**\n",
    "**2. Ordinal Encoder**\n",
    "**3. One Hot Encoder**"
   ]
  },
  {
   "cell_type": "markdown",
   "id": "3f2aeceb-32be-4d59-85d8-5f4d7161611c",
   "metadata": {},
   "source": [
    "# 1.Label Encoder"
   ]
  },
  {
   "cell_type": "code",
   "execution_count": 31,
   "id": "c03a4bc3-022f-45f0-b8ba-3258d3d3d440",
   "metadata": {},
   "outputs": [],
   "source": [
    "le = LabelEncoder()"
   ]
  },
  {
   "cell_type": "markdown",
   "id": "0f73414d-f10d-41eb-a2ac-efee1ac12556",
   "metadata": {},
   "source": [
    "**1.1 Fundamental approach**"
   ]
  },
  {
   "cell_type": "code",
   "execution_count": 39,
   "id": "87513574-37be-4cbd-b7a9-bf9cfb392d85",
   "metadata": {},
   "outputs": [
    {
     "name": "stdout",
     "output_type": "stream",
     "text": [
      "\u001b[2m\u001b[1m\u001b[34mLE using Fundamental Approach:\n",
      "\u001b[0m\n",
      "\u001b[93m   age  sex     bmi  children  smoker  region      charges\n",
      "0   19    0  27.900         0       1       3  16884.92400\n",
      "1   18    1  33.770         1       0       2   1725.55230\n",
      "2   28    1  33.000         3       0       2   4449.46200\n",
      "3   33    1  22.705         0       0       1  21984.47061\n",
      "4   32    1  28.880         0       0       1   3866.85520\u001b[0m\n"
     ]
    }
   ],
   "source": [
    "df1= df.copy()\n",
    "\n",
    "df1.sex= le.fit_transform(df1[['sex']])\n",
    "df1.region= le.fit_transform(df1[['region']])\n",
    "df1.smoker= le.fit_transform(df1[['smoker']])\n",
    "\n",
    "print(colored('LE using Fundamental Approach:\\n',color='blue', attrs=['bold','dark']))\n",
    "print(colored(df1.head(),color='light_yellow'))"
   ]
  },
  {
   "cell_type": "markdown",
   "id": "ca4b9ee9-cbe1-42d8-9d43-b839c96f93b6",
   "metadata": {},
   "source": [
    "**1.2 LE using 'for loop'**"
   ]
  },
  {
   "cell_type": "code",
   "execution_count": 44,
   "id": "2e1eafd2-e756-44d9-a4ff-59ba05515187",
   "metadata": {},
   "outputs": [],
   "source": [
    "df2= df.copy()\n",
    "columns_to_encode = ['sex','smoker','region']"
   ]
  },
  {
   "cell_type": "code",
   "execution_count": 56,
   "id": "ec6d4510-7b2e-4599-9a91-88f2aa69d7b5",
   "metadata": {},
   "outputs": [
    {
     "name": "stdout",
     "output_type": "stream",
     "text": [
      "\u001b[2m\u001b[1m\u001b[34mLE using'for loop':\n",
      "\u001b[0m\n",
      "\u001b[93m   age  sex     bmi  children  smoker  region      charges\n",
      "0   19    0  27.900         0       1       3  16884.92400\n",
      "1   18    1  33.770         1       0       2   1725.55230\n",
      "2   28    1  33.000         3       0       2   4449.46200\n",
      "3   33    1  22.705         0       0       1  21984.47061\n",
      "4   32    1  28.880         0       0       1   3866.85520\u001b[0m\n"
     ]
    }
   ],
   "source": [
    "for col in columns_to_encode:\n",
    "     df2[col]=le.fit_transform(df[[col]])\n",
    "\n",
    "print(colored(f\"LE using'for loop':\\n\",color='blue',attrs=['bold','dark']))\n",
    "print(colored(df2.head(),color= 'light_yellow'))"
   ]
  },
  {
   "cell_type": "markdown",
   "id": "d15f0360-5fd1-4f93-bae4-d139acfafe00",
   "metadata": {},
   "source": [
    "**1.3 LE using lambda Function**"
   ]
  },
  {
   "cell_type": "code",
   "execution_count": 59,
   "id": "419d9060-14ec-4e23-bf0b-109c53f7a426",
   "metadata": {},
   "outputs": [],
   "source": [
    "df3= df.copy()\n",
    "columns_to_encode = ['sex','smoker','region']"
   ]
  },
  {
   "cell_type": "code",
   "execution_count": 61,
   "id": "534fa100-f706-4221-9d8f-82796c1f33e3",
   "metadata": {},
   "outputs": [
    {
     "name": "stdout",
     "output_type": "stream",
     "text": [
      "\u001b[2m\u001b[1m\u001b[34mLE using lambda Function:\n",
      "\u001b[0m\n",
      "\u001b[93m   age  sex     bmi  children  smoker  region      charges\n",
      "0   19    0  27.900         0       1       3  16884.92400\n",
      "1   18    1  33.770         1       0       2   1725.55230\n",
      "2   28    1  33.000         3       0       2   4449.46200\n",
      "3   33    1  22.705         0       0       1  21984.47061\n",
      "4   32    1  28.880         0       0       1   3866.85520\u001b[0m\n"
     ]
    }
   ],
   "source": [
    "df3[columns_to_encode] = df3[columns_to_encode].apply(lambda x: le.fit_transform(x))\n",
    "\n",
    "print(colored(f'LE using lambda Function:\\n',color='blue',attrs=['bold','dark']))\n",
    "print(colored(df3.head(),color='light_yellow'))"
   ]
  },
  {
   "cell_type": "markdown",
   "id": "0a8eb28c-0e32-4243-b468-98e704d19f56",
   "metadata": {},
   "source": [
    "**1.4 Label Encoding by Label Mapping**"
   ]
  },
  {
   "cell_type": "code",
   "execution_count": 94,
   "id": "3cfc40bc-fdf3-4567-b1c6-b0b474e88a6a",
   "metadata": {},
   "outputs": [],
   "source": [
    "df_mapping = df.copy()\n",
    "df_replace = df.copy()\n",
    "df_comprehension = df.copy()\n",
    "\n",
    "label_mapping = {\n",
    "    'sex': {'female':1, 'male': 2},\n",
    "    'smoker': {'yes':0, 'no':1},\n",
    "    'region': {'southwest':1, 'southeast':2, 'northwest':3, 'northeast':4}\n",
    "}\n",
    "\n",
    "columns_to_encode = ['sex','smoker','region']\n",
    "\n",
    "#map function:\n",
    "for col in columns_to_encode:\n",
    "    df_mapping[col] = df_mapping[col].map(label_mapping[col])\n",
    "\n",
    "#replace method\n",
    "for col in columns_to_encode:\n",
    "    df_replace[col] = df_replace[col].replace(label_mapping[col])\n",
    "\n",
    "#list comprehension\n",
    "for col in columns_to_encode:\n",
    "    df_comprehension[col] = [label_mapping[col][x] for x in df_comprehension[col]]\n"
   ]
  },
  {
   "cell_type": "code",
   "execution_count": 102,
   "id": "94e11ca1-c3e2-4ae7-9c1a-7a59314cb616",
   "metadata": {},
   "outputs": [
    {
     "name": "stdout",
     "output_type": "stream",
     "text": [
      "\u001b[2m\u001b[1m\u001b[34mLE using 'Map Function':\n",
      "\u001b[0m\n",
      "\u001b[93m   age  sex     bmi  children  smoker  region      charges\n",
      "0   19    1  27.900         0       0       1  16884.92400\n",
      "1   18    2  33.770         1       1       2   1725.55230\n",
      "2   28    2  33.000         3       1       2   4449.46200\n",
      "3   33    2  22.705         0       1       3  21984.47061\n",
      "4   32    2  28.880         0       1       3   3866.85520\u001b[0m\n"
     ]
    }
   ],
   "source": [
    "print(colored(f\"LE using 'Map Function':\\n\",color='blue',attrs=['bold','dark']))\n",
    "print(colored(df_mapping.head(),color='light_yellow'))"
   ]
  },
  {
   "cell_type": "code",
   "execution_count": 100,
   "id": "45c6aeed-357b-45d4-b9b8-e94b270a1465",
   "metadata": {},
   "outputs": [
    {
     "name": "stdout",
     "output_type": "stream",
     "text": [
      "\u001b[2m\u001b[1m\u001b[34mLE using 'replace method':\n",
      "\u001b[0m\n",
      "\u001b[93m   age  sex     bmi  children  smoker  region      charges\n",
      "0   19    1  27.900         0       0       1  16884.92400\n",
      "1   18    2  33.770         1       1       2   1725.55230\n",
      "2   28    2  33.000         3       1       2   4449.46200\n",
      "3   33    2  22.705         0       1       3  21984.47061\n",
      "4   32    2  28.880         0       1       3   3866.85520\u001b[0m\n"
     ]
    }
   ],
   "source": [
    "print(colored(f\"LE using 'replace method':\\n\", color='blue',attrs=['bold','dark']))\n",
    "print(colored(df_replace.head(),color='light_yellow'))"
   ]
  },
  {
   "cell_type": "code",
   "execution_count": 98,
   "id": "2bb34962-8322-42d2-b316-10465acbd4b8",
   "metadata": {},
   "outputs": [
    {
     "name": "stdout",
     "output_type": "stream",
     "text": [
      "\u001b[2m\u001b[1m\u001b[34mLE using 'list comprehension':\n",
      "\u001b[0m\n",
      "\u001b[93m   age  sex     bmi  children  smoker  region      charges\n",
      "0   19    1  27.900         0       0       1  16884.92400\n",
      "1   18    2  33.770         1       1       2   1725.55230\n",
      "2   28    2  33.000         3       1       2   4449.46200\n",
      "3   33    2  22.705         0       1       3  21984.47061\n",
      "4   32    2  28.880         0       1       3   3866.85520\u001b[0m\n"
     ]
    }
   ],
   "source": [
    "print(colored(f\"LE using 'list comprehension':\\n\", color='blue',attrs=['bold','dark']))\n",
    "print(colored(df_comprehension.head(),color='light_yellow'))"
   ]
  },
  {
   "cell_type": "markdown",
   "id": "f7707330-a68b-43c7-b785-532e07ee311f",
   "metadata": {},
   "source": [
    "# 3. Ordinal Encoding"
   ]
  },
  {
   "cell_type": "code",
   "execution_count": 112,
   "id": "646841ae-35c9-426e-b8d1-535337c52edf",
   "metadata": {},
   "outputs": [],
   "source": [
    "ordinal=OrdinalEncoder()"
   ]
  },
  {
   "cell_type": "code",
   "execution_count": 118,
   "id": "026d8305-9459-44df-b58c-2230ce6a7ade",
   "metadata": {},
   "outputs": [
    {
     "name": "stdout",
     "output_type": "stream",
     "text": [
      "\u001b[2m\u001b[1m\u001b[34mOrdinal Encoded using 'for loop':\n",
      "\u001b[0m\n",
      "\u001b[93m   age  sex     bmi  children  smoker  region      charges\n",
      "0   19  0.0  27.900         0     1.0     3.0  16884.92400\n",
      "1   18  1.0  33.770         1     0.0     2.0   1725.55230\n",
      "2   28  1.0  33.000         3     0.0     2.0   4449.46200\n",
      "3   33  1.0  22.705         0     0.0     1.0  21984.47061\n",
      "4   32  1.0  28.880         0     0.0     1.0   3866.85520\u001b[0m\n"
     ]
    }
   ],
   "source": [
    "df7=df.copy()\n",
    "columns_to_encode = ['sex','smoker','region']\n",
    "\n",
    "#using for loop\n",
    "\n",
    "for col in columns_to_encode:\n",
    "    df7[col]=ordinal.fit_transform(df[[col]])\n",
    "\n",
    "print(colored(f\"Ordinal Encoded using 'for loop':\\n\",color='blue',attrs=['bold','dark']))\n",
    "print(colored(df7.head(),color='light_yellow'))"
   ]
  },
  {
   "cell_type": "markdown",
   "id": "046e918f-3af0-4545-ae71-35964756cf78",
   "metadata": {},
   "source": [
    "# Three Encoder perform three different columns separately"
   ]
  },
  {
   "cell_type": "code",
   "execution_count": 132,
   "id": "d46462a6-1984-4ecb-ae32-dd4143680756",
   "metadata": {},
   "outputs": [
    {
     "name": "stdout",
     "output_type": "stream",
     "text": [
      "\u001b[2m\u001b[1m\u001b[34mHydrid Encoded DataFrame:\n",
      "\u001b[0m\n",
      "\u001b[93m   age  sex     bmi  children  region      charges  smoker_no  smoker_yes\n",
      "0   19    0  27.900         0     3.0  16884.92400      False        True\n",
      "1   18    1  33.770         1     2.0   1725.55230       True       False\n",
      "2   28    1  33.000         3     2.0   4449.46200       True       False\n",
      "3   33    1  22.705         0     1.0  21984.47061       True       False\n",
      "4   32    1  28.880         0     1.0   3866.85520       True       False\u001b[0m\n"
     ]
    }
   ],
   "source": [
    "df8= df.copy()\n",
    "\n",
    "#Label Encoding\n",
    "df8.sex = LabelEncoder().fit_transform(df8[['sex']])\n",
    "\n",
    "#Ordinal Encoding\n",
    "df8.region = OrdinalEncoder().fit_transform(df8[['region']])\n",
    "\n",
    "#OneHot Encoding\n",
    "dummy_var= pd.get_dummies(df8[['smoker']],prefix='smoker')\n",
    "\n",
    "encoder_df8= pd.concat([df8.drop('smoker',axis=1),dummy_var],axis=1)\n",
    "\n",
    "print(colored('Hydrid Encoded DataFrame:\\n',color='blue',attrs=['bold','dark']))\n",
    "print(colored(encoder_df8.head(),color='light_yellow'))"
   ]
  },
  {
   "cell_type": "code",
   "execution_count": null,
   "id": "440d8cfc-7592-47c5-9b9e-af7dda915354",
   "metadata": {},
   "outputs": [],
   "source": []
  },
  {
   "cell_type": "code",
   "execution_count": null,
   "id": "40684f04-2db2-4acb-8799-4382a14a1042",
   "metadata": {},
   "outputs": [],
   "source": []
  },
  {
   "cell_type": "code",
   "execution_count": null,
   "id": "6e84fa41-421e-4a2c-ace4-712422d743e2",
   "metadata": {},
   "outputs": [],
   "source": []
  }
 ],
 "metadata": {
  "kernelspec": {
   "display_name": "Python 3 (ipykernel)",
   "language": "python",
   "name": "python3"
  },
  "language_info": {
   "codemirror_mode": {
    "name": "ipython",
    "version": 3
   },
   "file_extension": ".py",
   "mimetype": "text/x-python",
   "name": "python",
   "nbconvert_exporter": "python",
   "pygments_lexer": "ipython3",
   "version": "3.12.4"
  }
 },
 "nbformat": 4,
 "nbformat_minor": 5
}
